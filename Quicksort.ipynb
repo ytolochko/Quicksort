{
 "cells": [
  {
   "cell_type": "code",
   "execution_count": 11,
   "metadata": {
    "collapsed": false
   },
   "outputs": [
    {
     "name": "stdout",
     "output_type": "stream",
     "text": [
      "Original sequence: [4, 1, 3, 2, 5, 6, 7, 8, 310, 4, 125, 1785]\n",
      "Sorted sequence: [1, 2, 3, 4, 4, 5, 6, 7, 8, 125, 310, 1785]\n"
     ]
    }
   ],
   "source": [
    "# Quicksort sorting algorithm\n",
    "import random\n",
    "def partition(seq, first, last):\n",
    "    #  use first element as pivot\n",
    "    pivot = seq[first]\n",
    "\n",
    "    # only consider elements right of the pivot, thus first + 1\n",
    "    left = first + 1\n",
    "    right = last\n",
    "\n",
    "    # keep iterating from the left first until\n",
    "    # the first element left of the pivot is larger\n",
    "    # than the pivot; then do the same from the right\n",
    "    finished = False\n",
    "    while not finished:\n",
    "        while left <= right and seq[left] <= pivot:\n",
    "            left += 1\n",
    "        while seq[right] >= pivot and right >= left:\n",
    "            right -= 1\n",
    "\n",
    "        if right < left:\n",
    "            finished = True\n",
    "        else:\n",
    "            seq[left], seq[right] = seq[right], seq[left]\n",
    "\n",
    "    # place the pivot at the split of the two partitions\n",
    "    seq[first], seq[right] = seq[right], seq[first]\n",
    "\n",
    "    # return the location of the pivot\n",
    "    return right\n",
    "\n",
    "#    next function is a wrapper function \"quicksort\" that only takes\n",
    "#    the sequence as input. This function randomizes the order of\n",
    "#    seq ensuring that a disadvantageous ordering that would make\n",
    "#    quicksort inefficient is less likely.\n",
    "\n",
    "def quicksort(seq):\n",
    "    # randomize the sequence\n",
    "    random.shuffle(seq)\n",
    "    # then call the function in which actually sorts\n",
    "    quicksorter(seq, 0, len(seq)-1)\n",
    "\n",
    "#    This is the actual recursive sorting call, here called \"quicksorter\",\n",
    "#    which first generates the partition and then calls itself recursively\n",
    "#    on the right and left sub-partitions. It only runs if the index of the\n",
    "#    first element is less than that of the the last is non-empty, thus limiting the depth of recursive calls.\n",
    "\n",
    "\n",
    "def quicksorter(seq, first, last):\n",
    "    if first < last:\n",
    "        split = partition(seq, first, last)\n",
    "        quicksorter(seq, first, split - 1)\n",
    "        quicksorter(seq, split + 1, last)\n",
    "\n",
    "#   An example of a sequence and its sorted version\n",
    "seq = [4,1,3,2,5,6,7,8,310,4,125,1785]\n",
    "print('Original sequence:',seq)\n",
    "quicksort (seq)\n",
    "print('Sorted sequence:', seq)"
   ]
  }
 ],
 "metadata": {
  "anaconda-cloud": {},
  "kernelspec": {
   "display_name": "Python [default]",
   "language": "python",
   "name": "python3"
  },
  "language_info": {
   "codemirror_mode": {
    "name": "ipython",
    "version": 3
   },
   "file_extension": ".py",
   "mimetype": "text/x-python",
   "name": "python",
   "nbconvert_exporter": "python",
   "pygments_lexer": "ipython3",
   "version": "3.5.2"
  }
 },
 "nbformat": 4,
 "nbformat_minor": 1
}
